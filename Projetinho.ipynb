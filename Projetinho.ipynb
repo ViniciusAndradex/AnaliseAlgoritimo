{
 "cells": [
  {
   "cell_type": "code",
   "execution_count": 65,
   "outputs": [
    {
     "data": {
      "text/plain": "<contextlib._GeneratorContextManager at 0x7f8cb0358b80>"
     },
     "execution_count": 65,
     "metadata": {},
     "output_type": "execute_result"
    }
   ],
   "source": [
    "from random import randrange, sample, randint\n",
    "import numpy as np\n",
    "import time\n",
    "import sys\n",
    "np.printoptions(threshold=sys.maxsize)"
   ],
   "metadata": {
    "collapsed": false,
    "ExecuteTime": {
     "end_time": "2023-06-21T02:14:27.571017320Z",
     "start_time": "2023-06-21T02:14:27.512582256Z"
    }
   }
  },
  {
   "cell_type": "code",
   "execution_count": 90,
   "outputs": [
    {
     "name": "stdout",
     "output_type": "stream",
     "text": [
      "[  55  143 1336 1444 1638 1703]\n"
     ]
    }
   ],
   "source": [
    "m = (randrange(1,10))\n",
    "n = sample(range(10,2000),m)\n",
    "n = np.array(n)\n",
    "n.sort()\n",
    "print(n)"
   ],
   "metadata": {
    "collapsed": false,
    "ExecuteTime": {
     "end_time": "2023-06-21T02:17:36.424281200Z",
     "start_time": "2023-06-21T02:17:36.370763428Z"
    }
   }
  },
  {
   "cell_type": "code",
   "execution_count": 100,
   "outputs": [],
   "source": [
    "def assembly_line_iterative(a, t, e, x, n_fast):\n",
    "    f = [[0] * (n_fast + 1) for _ in range(2)]  # Matriz de tempo mais rápido\n",
    "    l = [[0] * (n_fast + 1) for _ in range(2)]  # Escolha de linhas da matriz\n",
    "\n",
    "    f[0] = e[0] + a[0][0]\n",
    "    f[0] = e[1] + a[1][0]\n",
    "    for j in range(2, n_fast + 1):\n",
    "        if f[j - 1] + a[0][j - 1] <= f[j - 1] + t[1][j - 2] + a[0][j - 1]:\n",
    "            f[j] = f[j - 1] + a[0][j - 1]\n",
    "            l[j] = 1\n",
    "        else:\n",
    "            f[j] = f[j - 1] + t[1][j - 2] + a[0][j - 1]\n",
    "            l[j] = 2\n",
    "\n",
    "        if f[j - 1] + a[1][j - 1] <= f[j - 1] + t[0][j - 2] + a[1][j - 1]:\n",
    "            f[j] = f[j - 1] + a[1][j - 1]\n",
    "            l[j] = 2\n",
    "        else:\n",
    "            f[j] = f[j - 1] + t[0][j - 2] + a[1][j - 1]\n",
    "            l[j] = 1\n",
    "\n",
    "    if f[n] + x[0] <= f[n] + x[1]:\n",
    "        fast = f[n] + x[0]\n",
    "        line_fast = 1\n",
    "    else:\n",
    "        fast = f[n] + x[0]\n",
    "        line_fast = 2\n",
    "\n",
    "    return l, fast, line_fast"
   ],
   "metadata": {
    "collapsed": false,
    "ExecuteTime": {
     "end_time": "2023-06-21T02:26:10.757106296Z",
     "start_time": "2023-06-21T02:26:10.694529541Z"
    }
   }
  },
  {
   "cell_type": "code",
   "execution_count": 101,
   "outputs": [],
   "source": [
    "def assembly_line_greedy(a, t, e, x, n_fast):\n",
    "    f = [[0] * (n_fast + 1) for _ in range(2)]  # Matriz de tempo mais rápido\n",
    "    l = [[0] * (n_fast + 1) for _ in range(2)]  # Escolha de linhas da matriz\n",
    "\n",
    "    # Iniciando o valor da primeira estação\n",
    "    f[0][1] = e[0] + a[0][0]\n",
    "    f[1][1] = e[1] + a[1][0]\n",
    "\n",
    "    # Calculando o tempo mais rápido para cada estação\n",
    "    for j in range(2, n + 1):\n",
    "        f[0][j] = min(f[0][j - 1] + a[0][j - 1], f[1][j - 1] + t[1][j - 2] + a[0][j - 1])\n",
    "        f[1][j] = min(f[1][j - 1] + a[1][j - 1], f[0][j - 1] + t[0][j - 2] + a[1][j - 1])\n",
    "\n",
    "        l[0][j] = 0 if f[0][j - 1] + a[0][j - 1] <= f[1][j - 1] + t[1][j - 2] + a[0][j - 1] else 1\n",
    "        l[1][j] = 1 if f[1][j - 1] + a[1][j - 1] <= f[0][j - 1] + t[0][j - 2] + a[1][j - 1] else 0\n",
    "\n",
    "    # Determinar tempo mais rápido e linha com menor tempo\n",
    "    fast = min(f[0][n_fast] + x[0], f[1][n_fast] + x[1])\n",
    "    line_fast = 0 if f[0][n_fast] + x[0] <= f[1][n_fast] + x[1] else 1\n",
    "\n",
    "    return l, fast, line_fast\n"
   ],
   "metadata": {
    "collapsed": false,
    "ExecuteTime": {
     "end_time": "2023-06-21T02:26:13.064364844Z",
     "start_time": "2023-06-21T02:26:13.029393166Z"
    }
   }
  },
  {
   "cell_type": "code",
   "execution_count": null,
   "outputs": [],
   "source": [
    "def print_stations(l, line_fast, n_fast):\n",
    "    route = [(line_fast, n_fast)]\n",
    "    i = line_fast\n",
    "    for j in range(n, 1, -1):\n",
    "        i = l[i][j]\n",
    "        route.append((i, j - 1))\n",
    "    route.reverse()\n",
    "    print('Caminho:')\n",
    "    for line, station in route:\n",
    "        print('Linha: ', line, 'Estação: ', station)"
   ],
   "metadata": {
    "collapsed": false
   }
  },
  {
   "cell_type": "code",
   "execution_count": null,
   "outputs": [],
   "source": [
    "a = [[7, 9, 3, 4, 8, 4], [8, 5, 6, 4, 5, 7]]  # Processing times at each station\n",
    "t = [[2, 3, 1, 3, 4], [2, 1, 2, 2, 1]]  # Transfer times between lines\n",
    "e = [2, 4]  # Entry times for each line\n",
    "x = [3, 2]  # Exit times for each line\n",
    "n = len(a[0])  # Number of stations\n",
    "\n",
    "l, f_star, l_star= assembly_line_iterative(a, t, e, x, n)\n",
    "print(\"Fastest time:\", f_star)\n",
    "print_stations(l, l_star, n)"
   ],
   "metadata": {
    "collapsed": false,
    "is_executing": true
   }
  },
  {
   "cell_type": "code",
   "execution_count": 102,
   "outputs": [
    {
     "ename": "TypeError",
     "evalue": "only integer scalar arrays can be converted to a scalar index",
     "output_type": "error",
     "traceback": [
      "\u001B[0;31m---------------------------------------------------------------------------\u001B[0m",
      "\u001B[0;31mTypeError\u001B[0m                                 Traceback (most recent call last)",
      "Cell \u001B[0;32mIn[102], line 17\u001B[0m\n\u001B[1;32m     14\u001B[0m \u001B[38;5;28;01mfor\u001B[39;00m x \u001B[38;5;129;01min\u001B[39;00m \u001B[38;5;28mrange\u001B[39m(\u001B[38;5;241m10\u001B[39m):\n\u001B[1;32m     16\u001B[0m     st \u001B[38;5;241m=\u001B[39m time\u001B[38;5;241m.\u001B[39mtime()\n\u001B[0;32m---> 17\u001B[0m     l, fast, line_fast \u001B[38;5;241m=\u001B[39m \u001B[43massembly_line_greedy\u001B[49m\u001B[43m(\u001B[49m\u001B[43ma\u001B[49m\u001B[43m,\u001B[49m\u001B[43m \u001B[49m\u001B[43mt\u001B[49m\u001B[43m,\u001B[49m\u001B[43m \u001B[49m\u001B[43me\u001B[49m\u001B[43m,\u001B[49m\u001B[43m \u001B[49m\u001B[43mx\u001B[49m\u001B[43m,\u001B[49m\u001B[43m \u001B[49m\u001B[38;5;28;43mlen\u001B[39;49m\u001B[43m(\u001B[49m\u001B[43mn\u001B[49m\u001B[43m)\u001B[49m\u001B[43m)\u001B[49m\n\u001B[1;32m     18\u001B[0m     et \u001B[38;5;241m=\u001B[39m time\u001B[38;5;241m.\u001B[39mtime()\n\u001B[1;32m     19\u001B[0m     elapsed_time \u001B[38;5;241m=\u001B[39m et \u001B[38;5;241m-\u001B[39m st\n",
      "Cell \u001B[0;32mIn[101], line 10\u001B[0m, in \u001B[0;36massembly_line_greedy\u001B[0;34m(a, t, e, x, n_fast)\u001B[0m\n\u001B[1;32m      7\u001B[0m f[\u001B[38;5;241m1\u001B[39m][\u001B[38;5;241m1\u001B[39m] \u001B[38;5;241m=\u001B[39m e[\u001B[38;5;241m1\u001B[39m] \u001B[38;5;241m+\u001B[39m a[\u001B[38;5;241m1\u001B[39m][\u001B[38;5;241m0\u001B[39m]\n\u001B[1;32m      9\u001B[0m \u001B[38;5;66;03m# Calculando o tempo mais rápido para cada estação\u001B[39;00m\n\u001B[0;32m---> 10\u001B[0m \u001B[38;5;28;01mfor\u001B[39;00m j \u001B[38;5;129;01min\u001B[39;00m \u001B[38;5;28;43mrange\u001B[39;49m\u001B[43m(\u001B[49m\u001B[38;5;241;43m2\u001B[39;49m\u001B[43m,\u001B[49m\u001B[43m \u001B[49m\u001B[43mn\u001B[49m\u001B[43m \u001B[49m\u001B[38;5;241;43m+\u001B[39;49m\u001B[43m \u001B[49m\u001B[38;5;241;43m1\u001B[39;49m\u001B[43m)\u001B[49m:\n\u001B[1;32m     11\u001B[0m     f[\u001B[38;5;241m0\u001B[39m][j] \u001B[38;5;241m=\u001B[39m \u001B[38;5;28mmin\u001B[39m(f[\u001B[38;5;241m0\u001B[39m][j \u001B[38;5;241m-\u001B[39m \u001B[38;5;241m1\u001B[39m] \u001B[38;5;241m+\u001B[39m a[\u001B[38;5;241m0\u001B[39m][j \u001B[38;5;241m-\u001B[39m \u001B[38;5;241m1\u001B[39m], f[\u001B[38;5;241m1\u001B[39m][j \u001B[38;5;241m-\u001B[39m \u001B[38;5;241m1\u001B[39m] \u001B[38;5;241m+\u001B[39m t[\u001B[38;5;241m1\u001B[39m][j \u001B[38;5;241m-\u001B[39m \u001B[38;5;241m2\u001B[39m] \u001B[38;5;241m+\u001B[39m a[\u001B[38;5;241m0\u001B[39m][j \u001B[38;5;241m-\u001B[39m \u001B[38;5;241m1\u001B[39m])\n\u001B[1;32m     12\u001B[0m     f[\u001B[38;5;241m1\u001B[39m][j] \u001B[38;5;241m=\u001B[39m \u001B[38;5;28mmin\u001B[39m(f[\u001B[38;5;241m1\u001B[39m][j \u001B[38;5;241m-\u001B[39m \u001B[38;5;241m1\u001B[39m] \u001B[38;5;241m+\u001B[39m a[\u001B[38;5;241m1\u001B[39m][j \u001B[38;5;241m-\u001B[39m \u001B[38;5;241m1\u001B[39m], f[\u001B[38;5;241m0\u001B[39m][j \u001B[38;5;241m-\u001B[39m \u001B[38;5;241m1\u001B[39m] \u001B[38;5;241m+\u001B[39m t[\u001B[38;5;241m0\u001B[39m][j \u001B[38;5;241m-\u001B[39m \u001B[38;5;241m2\u001B[39m] \u001B[38;5;241m+\u001B[39m a[\u001B[38;5;241m1\u001B[39m][j \u001B[38;5;241m-\u001B[39m \u001B[38;5;241m1\u001B[39m])\n",
      "\u001B[0;31mTypeError\u001B[0m: only integer scalar arrays can be converted to a scalar index"
     ]
    }
   ],
   "source": [
    "media_time_assembly_line_greedy = []\n",
    "media_time_assembly_line_iterative = []\n",
    "entrada_n = []\n",
    "vetores = {}\n",
    "vetor_time1 = []\n",
    "vetor_time2 = []\n",
    "\n",
    "\n",
    "for j in range(10):\n",
    "    e = [randint(1, 10) for x  in range(2)]\n",
    "    x = [randint(1, 10) for x in range(2)]\n",
    "    a = [[randint(1, 10) for _ in range(len(n))] for _ in range(2)]\n",
    "    t = [[randint(1, 10) for _ in range(len(n))] for _ in range(2)]\n",
    "    for x in range(10):\n",
    "\n",
    "        st = time.time()\n",
    "        l, fast, line_fast = assembly_line_greedy(a, t, e, x, len(n))\n",
    "        et = time.time()\n",
    "        elapsed_time = et - st\n",
    "        vetor_time1.append(elapsed_time)\n",
    "    media_time_assembly_line_greedy.append(np.mean(vetor_time1))\n",
    "\n",
    "    for y in range(10):\n",
    "\n",
    "        st2 = time.time()\n",
    "        l, fast, line_fast = assembly_line_iterative(a, t, e, x, len(n))\n",
    "        et2 = time.time()\n",
    "        elapsed_time2 = et2 - st2\n",
    "        vetor_time2.append(elapsed_time2)\n",
    "    media_time_assembly_line_iterative.append(np.mean(vetor_time2))\n",
    "\n",
    "    vetores.clear()\n",
    "    vetor_time1.clear()\n",
    "    vetor_time2.clear()"
   ],
   "metadata": {
    "collapsed": false,
    "ExecuteTime": {
     "end_time": "2023-06-21T02:26:16.316633686Z",
     "start_time": "2023-06-21T02:26:16.042927718Z"
    }
   }
  },
  {
   "cell_type": "code",
   "execution_count": 103,
   "outputs": [
    {
     "name": "stdout",
     "output_type": "stream",
     "text": [
      "[]\n"
     ]
    }
   ],
   "source": [
    "print(media_time_assembly_line_greedy)"
   ],
   "metadata": {
    "collapsed": false,
    "ExecuteTime": {
     "end_time": "2023-06-21T02:26:31.859141108Z",
     "start_time": "2023-06-21T02:26:31.759170971Z"
    }
   }
  }
 ],
 "metadata": {
  "kernelspec": {
   "display_name": "Python 3",
   "language": "python",
   "name": "python3"
  },
  "language_info": {
   "codemirror_mode": {
    "name": "ipython",
    "version": 2
   },
   "file_extension": ".py",
   "mimetype": "text/x-python",
   "name": "python",
   "nbconvert_exporter": "python",
   "pygments_lexer": "ipython2",
   "version": "2.7.6"
  }
 },
 "nbformat": 4,
 "nbformat_minor": 0
}
