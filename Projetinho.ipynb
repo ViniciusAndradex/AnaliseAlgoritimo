{
 "cells": [
  {
   "cell_type": "code",
   "execution_count": 1,
   "outputs": [],
   "source": [
    "import matplotlib.pyplot as plt\n",
    "import timeit\n",
    "import random"
   ],
   "metadata": {
    "collapsed": false,
    "ExecuteTime": {
     "end_time": "2023-06-24T00:54:34.936198574Z",
     "start_time": "2023-06-24T00:54:32.368981896Z"
    }
   }
  },
  {
   "cell_type": "code",
   "execution_count": 2,
   "outputs": [],
   "source": [
    "def fastest_way(a, t, e, x, n):\n",
    "    f1 = [0] * (n + 1)\n",
    "    f2 = [0] * (n + 1)\n",
    "    l1 = [0] * (n + 1)\n",
    "    l2 = [0] * (n + 1)\n",
    "\n",
    "    # Inicializar os primeiros valores da estação\n",
    "    f1[1] = e[0] + a[0][0]\n",
    "    f2[1] = e[1] + a[1][0]\n",
    "\n",
    "    # Calculo do tempo mais rápido para cada estação\n",
    "    for j in range(2, n + 1):\n",
    "        if f1[j - 1] + a[0][j - 1] <= f2[j - 1] + t[1][j - 2] + a[0][j - 1]:\n",
    "            f1[j] = f1[j - 1] + a[0][j - 1]\n",
    "            l1[j] = 1\n",
    "        else:\n",
    "            f1[j] = f2[j - 1] + t[1][j - 2] + a[0][j - 1]\n",
    "            l1[j] = 2\n",
    "\n",
    "        if f2[j - 1] + a[1][j - 1] <= f1[j - 1] + t[0][j - 2] + a[1][j - 1]:\n",
    "            f2[j] = f2[j - 1] + a[1][j - 1]\n",
    "            l2[j] = 2\n",
    "        else:\n",
    "            f2[j] = f1[j - 1] + t[0][j - 2] + a[1][j - 1]\n",
    "            l2[j] = 1\n",
    "\n",
    "    # Determinar o tempo mais rápido e a linha com o tempo mínimo\n",
    "    if f1[n] + x[0] <= f2[n] + x[1]:\n",
    "        f_star = sum(f1) + x[0]\n",
    "        l_star = 1\n",
    "    else:\n",
    "        f_star = sum(f2) + x[1]\n",
    "        l_star = 2\n",
    "\n",
    "    return f_star, l_star, l1, l2"
   ],
   "metadata": {
    "collapsed": false,
    "ExecuteTime": {
     "end_time": "2023-06-24T00:54:34.952234880Z",
     "start_time": "2023-06-24T00:54:34.947057636Z"
    }
   }
  },
  {
   "cell_type": "code",
   "execution_count": 3,
   "outputs": [],
   "source": [
    "def gredy_way(a, t, e, x, n):\n",
    "    f = [[0] * (n + 1) for _ in range(2)]  # Matriz de tempo mais rápida\n",
    "    f1 = [0] * (n + 1)\n",
    "    f2 = [0] * (n + 1)\n",
    "    # Matriz de escolhas de linha\n",
    "    l1 = [0] * (n + 1)\n",
    "    l2 = [0] * (n + 1)\n",
    "\n",
    "    # Inicializar os primeiros valores da estação\n",
    "    f[0][1] = e[0] + a[0][0]\n",
    "    f[1][1] = e[1] + a[1][0]\n",
    "\n",
    "    # Calculo do tempo mais rápido para cada estação\n",
    "    for j in range(2, n + 1):\n",
    "        f1[j] = min(f1[j - 1] + a[0][j - 1], f2[j - 1] + t[1][j - 2] + a[0][j - 1])\n",
    "        f2[j] = min(f2[j - 1] + a[1][j - 1], f1[j - 1] + t[0][j - 2] + a[1][j - 1])\n",
    "\n",
    "        if f1[j - 1] + a[0][j - 1] <= f2[j - 1] + t[1][j - 2] + a[0][j - 1]:\n",
    "          l1[j] = 1\n",
    "        else:\n",
    "          l1[j] = 2\n",
    "        if f2[j - 1] + a[1][j - 1] <= f1[j - 1] + t[0][j - 2] + a[1][j - 1]:\n",
    "          l2[j] = 2\n",
    "        else:\n",
    "          l2[j] = 1\n",
    "\n",
    "    # Determinar o tempo mais rápido e a linha com o tempo mínimo\n",
    "    f_star = min(f1[n] + x[0], f2[n] + x[1])\n",
    "    l_star = 1 if f1[n] + x[0] <= f2[n] + x[1] else 2\n",
    "\n",
    "    return f_star, l_star, l1, l2"
   ],
   "metadata": {
    "collapsed": false,
    "ExecuteTime": {
     "end_time": "2023-06-24T00:54:34.974161267Z",
     "start_time": "2023-06-24T00:54:34.962763669Z"
    }
   }
  },
  {
   "cell_type": "code",
   "execution_count": 4,
   "outputs": [],
   "source": [
    "def print_stations(l1, l2, l_star, f_star, n):\n",
    "    route = [(l_star, n)]\n",
    "\n",
    "    print(f'Tempo mais rápido: {f_star}')\n",
    "    print(f'Linha mais rápido: {l_star}')\n",
    "\n",
    "    i = l_star\n",
    "    for j in range(n, 1, -1):\n",
    "        if i == 1:\n",
    "            i = l1[j]\n",
    "        else:\n",
    "            i = l2[j]\n",
    "\n",
    "        route.append((i, j - 1))\n",
    "\n",
    "    route.reverse()\n",
    "\n",
    "    print(\"Rota mais curta:\")\n",
    "    for line, station in route:\n",
    "        print(\"Linha:\", line, \"Estação:\", station)"
   ],
   "metadata": {
    "collapsed": false,
    "ExecuteTime": {
     "end_time": "2023-06-24T00:54:35.003182588Z",
     "start_time": "2023-06-24T00:54:34.979725278Z"
    }
   }
  },
  {
   "cell_type": "code",
   "execution_count": 5,
   "outputs": [],
   "source": [
    "# Gera as entradas\n",
    "def generate_entries():\n",
    "  n =  random.randint(1,10)\n",
    "\n",
    "  # Gera os tempos de processamento aleatórios em cada estação\n",
    "  a = [[random.randint(1, 10) for _ in range(n)] for _ in range(2)]\n",
    "\n",
    "  # Gera os tempos de transferência aleatórios entre linhas\n",
    "  t = [[random.randint(1, 5) for _ in range(n-1)] for _ in range(2)]\n",
    "\n",
    "  # Gerar os tempos de entrada aleatórios\n",
    "  e = [random.randint(1, 5) for _ in range(2)]\n",
    "\n",
    "  # Gerar os tempos de saída aleatórios\n",
    "  x = [random.randint(1, 5) for _ in range(2)]\n",
    "\n",
    "  return n, a, t, e, x"
   ],
   "metadata": {
    "collapsed": false,
    "ExecuteTime": {
     "end_time": "2023-06-24T00:54:35.047293585Z",
     "start_time": "2023-06-24T00:54:34.998086325Z"
    }
   }
  },
  {
   "cell_type": "code",
   "execution_count": 6,
   "outputs": [
    {
     "name": "stdout",
     "output_type": "stream",
     "text": [
      "Tempo mais rápido: 79\n",
      "Linha mais rápido: 1\n",
      "Rota mais curta:\n",
      "Linha: 2 Estação: 1\n",
      "Linha: 2 Estação: 2\n",
      "Linha: 2 Estação: 3\n",
      "Linha: 1 Estação: 4\n",
      "Linha: 1 Estação: 5\n"
     ]
    }
   ],
   "source": [
    "n, a, t, e, x = generate_entries()\n",
    "\n",
    "f_star, l_star, l1, l2 = fastest_way(a, t, e, x, n)\n",
    "\n",
    "print_stations(l1=l1, l2=l2, f_star=f_star, l_star=l_star, n=n)"
   ],
   "metadata": {
    "collapsed": false,
    "ExecuteTime": {
     "end_time": "2023-06-24T00:54:35.049786667Z",
     "start_time": "2023-06-24T00:54:35.040098566Z"
    }
   }
  },
  {
   "cell_type": "code",
   "execution_count": 7,
   "outputs": [
    {
     "name": "stdout",
     "output_type": "stream",
     "text": [
      "Tempo mais rápido: 31\n",
      "Linha mais rápido: 1\n",
      "Rota mais curta:\n",
      "Linha: 1 Estação: 1\n",
      "Linha: 1 Estação: 2\n",
      "Linha: 1 Estação: 3\n",
      "Linha: 2 Estação: 4\n",
      "Linha: 2 Estação: 5\n",
      "Linha: 2 Estação: 6\n",
      "Linha: 1 Estação: 7\n"
     ]
    }
   ],
   "source": [
    "n, a, t, e, x = generate_entries()\n",
    "\n",
    "f_star, l_star, l1, l2 = gredy_way(a, t, e, x, n)\n",
    "\n",
    "print_stations(l1=l1, l2=l2, f_star=f_star, l_star=l_star, n=n)"
   ],
   "metadata": {
    "collapsed": false,
    "ExecuteTime": {
     "end_time": "2023-06-24T00:54:35.050438100Z",
     "start_time": "2023-06-24T00:54:35.042341459Z"
    }
   }
  },
  {
   "cell_type": "code",
   "execution_count": 8,
   "outputs": [
    {
     "name": "stdout",
     "output_type": "stream",
     "text": [
      "Tempos médios de execução: [0.00044962600031794864, 0.000530203999915102, 0.00045012000009592157, 0.00038447399992946885, 0.0003751149997697212, 0.00034358599987172056, 0.00046148699993864284, 0.0008914800000638934, 0.0006917729997439892, 0.0005667350001203886, 0.0006429179998121981, 0.0005351780000637518, 0.0006287369997153291, 0.0004184049998912087, 0.0004936979999001778, 0.00047088700011954643, 0.005335369000022183, 0.0012700130000666832, 0.0007662779999009217, 0.0005450019998534117]\n"
     ]
    }
   ],
   "source": [
    "# Função para medir o tempo de execução da função fastest_way\n",
    "def measure_execution_time_iterative():\n",
    "  n, a, t, e, x = generate_entries()\n",
    "\n",
    "  fastest_way(a, t, e, x, n)\n",
    "\n",
    "# Medir os tempos de execução da função e armazena as médias em uma lista\n",
    "num_runs = 20\n",
    "average_execution_times_iterative = []\n",
    "for _ in range(num_runs):\n",
    "    execution_time = timeit.timeit(measure_execution_time_iterative, number=10)\n",
    "    average_execution_times_iterative.append(execution_time)\n",
    "\n",
    "print(\"Tempos médios de execução:\", average_execution_times_iterative)"
   ],
   "metadata": {
    "collapsed": false,
    "ExecuteTime": {
     "end_time": "2023-06-24T00:54:35.208282752Z",
     "start_time": "2023-06-24T00:54:35.083740225Z"
    }
   }
  },
  {
   "cell_type": "code",
   "execution_count": 9,
   "outputs": [
    {
     "name": "stdout",
     "output_type": "stream",
     "text": [
      "Tempos médios de execução: [0.0007886789999247412, 0.0006466610002462403, 0.0007836419999875943, 0.0006472949999078992, 0.0014586249999410938, 0.0007044809999570134, 0.0006632869999521063, 0.0004019140001219057, 0.0003285290003987029, 0.0023413809999510704, 0.0008255750003627327, 0.0006280890002017259, 0.000616407000052277, 0.000668107999899803, 0.0005068129999017401, 0.0005135989999871526, 0.0004093670004294836, 0.0005130300000928401, 0.0005210690001149487, 0.0007191780000539438]\n"
     ]
    }
   ],
   "source": [
    "# Função para medir o tempo de execução da função greedy_way\n",
    "def measure_execution_time_greed():\n",
    "  n, a, t, e, x = generate_entries()\n",
    "\n",
    "  gredy_way(a, t, e, x, n)\n",
    "\n",
    "# Medir os tempos de execução da função e armazena as médias em uma lista\n",
    "num_runs = 20\n",
    "average_execution_times_greedy = []\n",
    "for _ in range(num_runs):\n",
    "    execution_time = timeit.timeit(measure_execution_time_greed, number=10)\n",
    "    average_execution_times_greedy.append(execution_time)\n",
    "\n",
    "print(\"Tempos médios de execução:\", average_execution_times_greedy)\n"
   ],
   "metadata": {
    "collapsed": false,
    "ExecuteTime": {
     "end_time": "2023-06-24T00:54:35.237634221Z",
     "start_time": "2023-06-24T00:54:35.084313574Z"
    }
   }
  },
  {
   "cell_type": "code",
   "execution_count": 10,
   "outputs": [
    {
     "data": {
      "text/plain": "<Figure size 640x480 with 1 Axes>",
      "image/png": "[encoded data removed]"
     },
     "metadata": {},
     "output_type": "display_data"
    }
   ],
   "source": [
    "plt.plot(range(1, num_runs+1), average_execution_times_iterative, marker='o', label='Iterative')\n",
    "plt.plot(range(1, num_runs+1), average_execution_times_greedy, marker='o', label='Greedy')\n",
    "plt.xlabel('Run')\n",
    "plt.ylabel('Average Execution Time')\n",
    "plt.title('Execution Time Comparison')\n",
    "plt.legend()\n",
    "plt.grid(True)\n",
    "plt.show()"
   ],
   "metadata": {
    "collapsed": false,
    "ExecuteTime": {
     "end_time": "2023-06-24T00:54:35.659352648Z",
     "start_time": "2023-06-24T00:54:35.090095644Z"
    }
   }
  }
 ],
 "metadata": {
  "kernelspec": {
   "display_name": "Python 3",
   "language": "python",
   "name": "python3"
  },
  "language_info": {
   "codemirror_mode": {
    "name": "ipython",
    "version": 2
   },
   "file_extension": ".py",
   "mimetype": "text/x-python",
   "name": "python",
   "nbconvert_exporter": "python",
   "pygments_lexer": "ipython2",
   "version": "2.7.6"
  }
 },
 "nbformat": 4,
 "nbformat_minor": 0
}
